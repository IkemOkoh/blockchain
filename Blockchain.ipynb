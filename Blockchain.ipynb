{
 "cells": [
  {
   "cell_type": "code",
   "execution_count": 1,
   "id": "4cdfe7d1-4233-452e-a476-c84dd54f56e0",
   "metadata": {},
   "outputs": [],
   "source": [
    "import hashlib\n",
    "#will be critical for creating hash "
   ]
  },
  {
   "cell_type": "code",
   "execution_count": 11,
   "id": "4c3cab56-c849-4fef-aeca-5280dbc4a326",
   "metadata": {},
   "outputs": [
    {
     "name": "stdout",
     "output_type": "stream",
     "text": [
      "Gavin sends 3 KC to Max - Dev sends 7 KC to Max - \n",
      "a190a9aa8b60ca5d7c91d6a694f2357d34950cc11a1fd5d2b22758ee6f1ad853\n",
      "Dev sends 7 KC to Max - Alex sends 3.3 KC to Maya - \n",
      "fdfdb73c43fe33f35f07e72a836c87b4d32ada201767eabeff0493987d5b8ffe\n",
      "Alex sends 3.3 KC to Maya - Marie sends 8 KC to Greg - \n",
      "648fb3d539c1a828b81a0e09f9156a2bd8fdb6686d9bf7bc609cab693e827469\n",
      "Marie sends 8 KC to Greg - Bob sends 12.3 KC to Gavin - \n",
      "bbb182bb447da046e264deacd518f9c7481df1d60b1eccc98250c5636329ae28\n",
      "Bob sends 12.3 KC to Gavin - Maya sends 4 KC to Max - \n",
      "3f508954d897f22eeb6bac458412f122bbbb83220471f5c51d16590288dd11b7\n",
      "The hash of the original initial block is a190a9aa8b60ca5d7c91d6a694f2357d34950cc11a1fd5d2b22758ee6f1ad853\n",
      "However, the hash of the SLIGHTLY modified initial block is 141861e449c2d759652cce6a4820ee7aba7cf729262f1d90aada17050ad5ae43\n"
     ]
    }
   ],
   "source": [
    "class KemCoinBlock: \n",
    "    def __init__(self, previous_block_hash, transaction_list):\n",
    "        self.previous_block_hash = previous_block_hash\n",
    "        self.transaction_list = transaction_list\n",
    "\n",
    "        self.block_data = \" - \".join(transaction_list) + \" - \" + previous_block_hash\n",
    "        # using hashlib's sha256 function to create a secure hash value, hexdigest to compress\n",
    "        self.block_hash = hashlib.sha256(self.block_data.encode()).hexdigest()\n",
    "\n",
    "t1 = \"Gavin sends 3 KC to Max\"\n",
    "t2 = \"Dev sends 7 KC to Max\"\n",
    "t3 = \"Alex sends 3.3 KC to Maya\"\n",
    "t4 = \"Marie sends 8 KC to Greg\"\n",
    "t5 = \"Bob sends 12.3 KC to Gavin\"\n",
    "t6 = \"Maya sends 4 KC to Max\"\n",
    "\n",
    "intial_block = KemCoinBlock(\"\", [t1, t2])\n",
    "second_block = KemCoinBlock(\"\", [t2, t3])\n",
    "third_block = KemCoinBlock(\"\", [t3, t4])\n",
    "fourth_block = KemCoinBlock(\"\", [t4, t5])\n",
    "fifth_block = KemCoinBlock(\"\", [t5, t6])\n",
    "\n",
    "print(intial_block.block_data)\n",
    "print(intial_block.block_hash)\n",
    "\n",
    "print(second_block.block_data)\n",
    "print(second_block.block_hash)\n",
    "\n",
    "print(third_block.block_data)\n",
    "print(third_block.block_hash)\n",
    "\n",
    "print(fourth_block.block_data)\n",
    "print(fourth_block.block_hash)\n",
    "\n",
    "print(fifth_block.block_data)\n",
    "print(fifth_block.block_hash)\n",
    "\n",
    "# As you'll notice, even a *slight* change in any data results in a completely different hash\n",
    "# Let's test this on the initial block & hash\n",
    "\n",
    "temp_t1 = \"Gavin sends 3.1 KC to Max\"\n",
    "temp_t2 = \"Dev sends 8 KC to Max\"\n",
    "\n",
    "temp_intial_block = KemCoinBlock(\"\", [temp_t1, temp_t2])\n",
    "\n",
    "print(f\"The hash of the original initial block is {intial_block.block_hash}\")\n",
    "print(f\"However, the hash of the SLIGHTLY modified initial block is {temp_intial_block.block_hash}\")\n"
   ]
  },
  {
   "cell_type": "code",
   "execution_count": null,
   "id": "3acf1a61-1c90-409a-ba90-a279059fa145",
   "metadata": {},
   "outputs": [],
   "source": []
  }
 ],
 "metadata": {
  "kernelspec": {
   "display_name": "Python 3 (ipykernel)",
   "language": "python",
   "name": "python3"
  },
  "language_info": {
   "codemirror_mode": {
    "name": "ipython",
    "version": 3
   },
   "file_extension": ".py",
   "mimetype": "text/x-python",
   "name": "python",
   "nbconvert_exporter": "python",
   "pygments_lexer": "ipython3",
   "version": "3.12.1"
  }
 },
 "nbformat": 4,
 "nbformat_minor": 5
}
